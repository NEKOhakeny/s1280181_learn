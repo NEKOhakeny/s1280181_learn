{
 "cells": [
  {
   "cell_type": "code",
   "execution_count": null,
   "metadata": {},
   "outputs": [],
   "source": [
    "from statistics import frequenciesOfItems as stats\n",
    "from visualization import heatMapItemsFrequencies as mpx\n",
    "\n",
    "itemsFrequencies = stats.frequenciesOfItems ('PM24HeavyPollutionRecordingSensors.csv','\\t')\n",
    "df = itemsFrequencies.getFrequencies()\n",
    "HeatMap = mpx.heatMapItemsFrequencies(df)\n",
    "HeatMap.HeatMap()\n"
   ]
  }
 ],
 "metadata": {
  "kernelspec": {
   "display_name": "Python 3 (ipykernel)",
   "language": "python",
   "name": "python3"
  },
  "language_info": {
   "codemirror_mode": {
    "name": "ipython",
    "version": 3
   },
   "file_extension": ".py",
   "mimetype": "text/x-python",
   "name": "python",
   "nbconvert_exporter": "python",
   "pygments_lexer": "ipython3",
   "version": "3.11.3"
  }
 },
 "nbformat": 4,
 "nbformat_minor": 4
}
