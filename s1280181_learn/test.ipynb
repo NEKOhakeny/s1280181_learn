{
 "cells": [
  {
   "cell_type": "code",
   "execution_count": 5,
   "metadata": {},
   "outputs": [
    {
     "name": "stdout",
     "output_type": "stream",
     "text": [
      "                                   Point  frequency         lon        lat\n",
      "0      ['Point(140.5781487 39.3100292)']        117  140.578149  39.310029\n",
      "1      ['Point(130.6384926 32.5010333)']        102  130.638493  32.501033\n",
      "2      ['Point(138.5499996 35.6721125)']         93  138.550000  35.672112\n",
      "3      ['Point(138.6774781 35.1540954)']         88  138.677478  35.154095\n",
      "4       ['Point(131.427765 31.9437073)']         80  131.427765  31.943707\n",
      "...                                  ...        ...         ...        ...\n",
      "23253  ['Point(130.4334872 33.5533525)']          1  130.433487  33.553353\n",
      "23270  ['Point(135.3618255 34.7859124)']          1  135.361826  34.785912\n",
      "23473  ['Point(138.2822794 36.7119053)']          1  138.282279  36.711905\n",
      "23657   ['Point(139.610123 35.4343409)']          1  139.610123  35.434341\n",
      "23946  ['Point(133.4620724 34.9724028)']          1  133.462072  34.972403\n",
      "\n",
      "[886 rows x 4 columns]\n"
     ]
    },
    {
     "ename": "ValueError",
     "evalue": "Mime type rendering requires nbformat>=4.2.0 but it is not installed",
     "output_type": "error",
     "traceback": [
      "\u001b[0;31m---------------------------------------------------------------------------\u001b[0m",
      "\u001b[0;31mValueError\u001b[0m                                Traceback (most recent call last)",
      "Cell \u001b[0;32mIn[5], line 7\u001b[0m\n\u001b[1;32m      5\u001b[0m df \u001b[39m=\u001b[39m itemsFrequencies\u001b[39m.\u001b[39mgetFrequencies()\n\u001b[1;32m      6\u001b[0m HeatMap \u001b[39m=\u001b[39m mpx\u001b[39m.\u001b[39mheatMapItemsFrequencies(df)\n\u001b[0;32m----> 7\u001b[0m HeatMap\u001b[39m.\u001b[39;49mHeatMap()\n",
      "File \u001b[0;32m~/s1280181_learn/s1280181_learn/visualization/heatMapItemsFrequencies.py:13\u001b[0m, in \u001b[0;36mheatMapItemsFrequencies.HeatMap\u001b[0;34m(self)\u001b[0m\n\u001b[1;32m      9\u001b[0m \u001b[39mdef\u001b[39;00m \u001b[39mHeatMap\u001b[39m(\u001b[39mself\u001b[39m):\n\u001b[1;32m     10\u001b[0m     fig \u001b[39m=\u001b[39m px\u001b[39m.\u001b[39mdensity_mapbox(\u001b[39mself\u001b[39m\u001b[39m.\u001b[39mdf, lat\u001b[39m=\u001b[39m\u001b[39m'\u001b[39m\u001b[39mlat\u001b[39m\u001b[39m'\u001b[39m, lon\u001b[39m=\u001b[39m\u001b[39m'\u001b[39m\u001b[39mlon\u001b[39m\u001b[39m'\u001b[39m, z\u001b[39m=\u001b[39m\u001b[39m'\u001b[39m\u001b[39mfrequency\u001b[39m\u001b[39m'\u001b[39m, radius\u001b[39m=\u001b[39m\u001b[39m8\u001b[39m,\n\u001b[1;32m     11\u001b[0m                     center\u001b[39m=\u001b[39m{\u001b[39m'\u001b[39m\u001b[39mlat\u001b[39m\u001b[39m'\u001b[39m:\u001b[39m34.686567\u001b[39m, \u001b[39m'\u001b[39m\u001b[39mlon\u001b[39m\u001b[39m'\u001b[39m:\u001b[39m135.52000\u001b[39m}, zoom\u001b[39m=\u001b[39m\u001b[39m5\u001b[39m,height \u001b[39m=\u001b[39m \u001b[39m600\u001b[39m,width\u001b[39m=\u001b[39m\u001b[39m800\u001b[39m,\n\u001b[1;32m     12\u001b[0m                     mapbox_style\u001b[39m=\u001b[39m\u001b[39m'\u001b[39m\u001b[39mopen-street-map\u001b[39m\u001b[39m'\u001b[39m)\n\u001b[0;32m---> 13\u001b[0m     fig\u001b[39m.\u001b[39;49mshow()\n",
      "File \u001b[0;32m/opt/homebrew/lib/python3.11/site-packages/plotly/basedatatypes.py:3409\u001b[0m, in \u001b[0;36mBaseFigure.show\u001b[0;34m(self, *args, **kwargs)\u001b[0m\n\u001b[1;32m   3376\u001b[0m \u001b[39m\u001b[39m\u001b[39m\"\"\"\u001b[39;00m\n\u001b[1;32m   3377\u001b[0m \u001b[39mShow a figure using either the default renderer(s) or the renderer(s)\u001b[39;00m\n\u001b[1;32m   3378\u001b[0m \u001b[39mspecified by the renderer argument\u001b[39;00m\n\u001b[0;32m   (...)\u001b[0m\n\u001b[1;32m   3405\u001b[0m \u001b[39mNone\u001b[39;00m\n\u001b[1;32m   3406\u001b[0m \u001b[39m\"\"\"\u001b[39;00m\n\u001b[1;32m   3407\u001b[0m \u001b[39mimport\u001b[39;00m \u001b[39mplotly\u001b[39;00m\u001b[39m.\u001b[39;00m\u001b[39mio\u001b[39;00m \u001b[39mas\u001b[39;00m \u001b[39mpio\u001b[39;00m\n\u001b[0;32m-> 3409\u001b[0m \u001b[39mreturn\u001b[39;00m pio\u001b[39m.\u001b[39;49mshow(\u001b[39mself\u001b[39;49m, \u001b[39m*\u001b[39;49margs, \u001b[39m*\u001b[39;49m\u001b[39m*\u001b[39;49mkwargs)\n",
      "File \u001b[0;32m/opt/homebrew/lib/python3.11/site-packages/plotly/io/_renderers.py:396\u001b[0m, in \u001b[0;36mshow\u001b[0;34m(fig, renderer, validate, **kwargs)\u001b[0m\n\u001b[1;32m    391\u001b[0m         \u001b[39mraise\u001b[39;00m \u001b[39mValueError\u001b[39;00m(\n\u001b[1;32m    392\u001b[0m             \u001b[39m\"\u001b[39m\u001b[39mMime type rendering requires ipython but it is not installed\u001b[39m\u001b[39m\"\u001b[39m\n\u001b[1;32m    393\u001b[0m         )\n\u001b[1;32m    395\u001b[0m     \u001b[39mif\u001b[39;00m \u001b[39mnot\u001b[39;00m nbformat \u001b[39mor\u001b[39;00m Version(nbformat\u001b[39m.\u001b[39m__version__) \u001b[39m<\u001b[39m Version(\u001b[39m\"\u001b[39m\u001b[39m4.2.0\u001b[39m\u001b[39m\"\u001b[39m):\n\u001b[0;32m--> 396\u001b[0m         \u001b[39mraise\u001b[39;00m \u001b[39mValueError\u001b[39;00m(\n\u001b[1;32m    397\u001b[0m             \u001b[39m\"\u001b[39m\u001b[39mMime type rendering requires nbformat>=4.2.0 but it is not installed\u001b[39m\u001b[39m\"\u001b[39m\n\u001b[1;32m    398\u001b[0m         )\n\u001b[1;32m    400\u001b[0m     ipython_display\u001b[39m.\u001b[39mdisplay(bundle, raw\u001b[39m=\u001b[39m\u001b[39mTrue\u001b[39;00m)\n\u001b[1;32m    402\u001b[0m \u001b[39m# external renderers\u001b[39;00m\n",
      "\u001b[0;31mValueError\u001b[0m: Mime type rendering requires nbformat>=4.2.0 but it is not installed"
     ]
    }
   ],
   "source": [
    "from statistics import frequenciesOfItems as stats\n",
    "from visualization import heatMapItemsFrequencies as mpx\n",
    "\n",
    "itemsFrequencies = stats.frequenciesOfItems ('PM24HeavyPollutionRecordingSensors.csv','\\t')\n",
    "df = itemsFrequencies.getFrequencies()\n",
    "HeatMap = mpx.heatMapItemsFrequencies(df)\n",
    "HeatMap.HeatMap()\n"
   ]
  }
 ],
 "metadata": {
  "kernelspec": {
   "display_name": "Python 3",
   "language": "python",
   "name": "python3"
  },
  "language_info": {
   "codemirror_mode": {
    "name": "ipython",
    "version": 3
   },
   "file_extension": ".py",
   "mimetype": "text/x-python",
   "name": "python",
   "nbconvert_exporter": "python",
   "pygments_lexer": "ipython3",
   "version": "3.11.4"
  },
  "orig_nbformat": 4
 },
 "nbformat": 4,
 "nbformat_minor": 2
}
